{
    "metadata": {
        "kernelspec": {
            "name": "SQL",
            "display_name": "SQL",
            "language": "sql"
        },
        "language_info": {
            "name": "sql",
            "version": ""
        }
    },
    "nbformat_minor": 2,
    "nbformat": 4,
    "cells": [
        {
            "cell_type": "code",
            "source": [
                "DROP TABLE [OgrenciVeriTabani].dbo.OgrenciTablosu;\n",
                ""
            ],
            "metadata": {
                "language": "sql",
                "azdata_cell_guid": "d5cf0a3c-f3bf-48ed-bba0-73eac33bae13"
            },
            "outputs": [
                {
                    "output_type": "error",
                    "ename": "",
                    "evalue": "Msg 3701, Level 11, State 5, Line 2\nCannot drop the table 'OgrenciVeriTabani.dbo.AkademisyenKurumsalVeriTablosu', because it does not exist or you do not have permission.",
                    "traceback": []
                },
                {
                    "output_type": "display_data",
                    "data": {
                        "text/html": "Total execution time: 00:00:00.011"
                    },
                    "metadata": {}
                }
            ],
            "execution_count": 6
        },
        {
            "cell_type": "code",
            "source": [
                "USE OgrenciVeriTabani\n",
                "CREATE TABLE OgrenciTablosu\n",
                "(\n",
                "OgrenciID bigint PRIMARY KEY NOT NULL,\n",
                "KimlikID bigint NULL,\n",
                "Isim varchar(50) NULL,\n",
                "Soyisim varchar(50) NULL,\n",
                "Addres varchar(500) NULL,\n",
                "TelNo bigint NULL,\n",
                "EPosta varchar(50) NULL,\n",
                "Uyruk varchar(50) NULL,\n",
                "Cinsiyet varchar(50) NULL,\n",
                "Sehir varchar(50) NULL,\n",
                "DogumGun INT NULL,\n",
                "DogumAy INT NULL,\n",
                "DogumYil INT NULL,\n",
                "Fakulte varchar(50) NULL,\n",
                "Bolum varchar(50) NULL,\n",
                "OgretimTuru varchar(50) NULL,\n",
                "OgrenciTuru varchar(50) NULL,\n",
                "OkulEposta varchar(50) NULL,\n",
                "DGS varchar(50) NULL,\n",
                "YatayGecis varchar(50) NULL,\n",
                "KayitGun INT NULL,\n",
                "KayitAy INT NULL,\n",
                "KayitYil INT NULL,\n",
                "\n",
                ");"
            ],
            "metadata": {
                "azdata_cell_guid": "b0d7532c-ed6c-44ee-8499-f97e1212e28a",
                "language": "sql",
                "tags": []
            },
            "outputs": [
                {
                    "output_type": "display_data",
                    "data": {
                        "text/html": "DATABASE OLUSUTURULDU"
                    },
                    "metadata": {}
                },
                {
                    "output_type": "display_data",
                    "data": {
                        "text/html": "Total execution time: 00:00:00.012"
                    },
                    "metadata": {}
                }
            ],
            "execution_count": 7
        },
        {
            "cell_type": "code",
            "source": [
                "USE OgrenciVeriTabani\n",
                "CREATE TABLE AkademisyenKurumsalVeriTablosu\n",
                "(\n",
                "AkademisyenID bigint PRIMARY KEY NOT NULL,\n",
                "KimlikID bigint NULL,\n",
                "Isim varchar(50) NULL,\n",
                "Soyisim varchar(50) NULL,\n",
                "Adres varchar(500) NULL,\n",
                "TelNo bigint NULL,\n",
                "EPosta varchar(50) NULL,\n",
                "Uyruk varchar(50) NULL,\n",
                "Cinsiyet varchar(50) NULL,\n",
                "Sehir varchar(50) NULL,\n",
                "DogumGun INT NULL,\n",
                "DogumAy INT NULL,\n",
                "DogumYil INT NULL,\n",
                "GorevFakulte varchar(50) NULL,\n",
                "GorevBolum varchar(50) NULL,\n",
                "GorevOgretimTuru varchar(50) NULL,\n",
                "GorevLisansTuru varchar(50) NULL,\n",
                "GorevTuru varchar(50) NULL,\n",
                "OkulEposta varchar(50) NULL,\n",
                "GorevKayitGun INT NULL,\n",
                "GorevKayitAy INT NULL,\n",
                "GorevKayitYil INT NULL,\n",
                "\n",
                ");"
            ],
            "metadata": {
                "language": "sql",
                "azdata_cell_guid": "58ad30ae-ea0c-4a53-a7c9-b8ae54802faf"
            },
            "outputs": [
                {
                    "output_type": "display_data",
                    "data": {
                        "text/html": "DATABASE OLUSUTURULDU"
                    },
                    "metadata": {}
                },
                {
                    "output_type": "display_data",
                    "data": {
                        "text/html": "Total execution time: 00:00:00.019"
                    },
                    "metadata": {}
                }
            ],
            "execution_count": 65
        },
        {
            "cell_type": "code",
            "source": [
                "USE OgrenciVeriTabani\n",
                "CREATE TABLE AkademisyenEgitimVeriTablosu\n",
                "(\n",
                "AkademisyenID bigint PRIMARY KEY NOT NULL,\n",
                "Universite varchar(50) NULL,\n",
                "Bolum varchar(50) NULL,\n",
                "OgretimTuru varchar(500) NULL,\n",
                "LisansTuru varchar(50) NULL,\n",
                "Fakulte varchar(50) NULL,\n",
                "Sehir varchar(50) NULL,\n",
                "BaslangicGun INT NULL,\n",
                "BaslangicAy INT NULL,\n",
                "BaslangicYil INT NULL,\n",
                "BitisGun INT NULL,\n",
                "BitisAy INT NULL,\n",
                "BitisYil INT NULL,\n",
                "\n",
                ");"
            ],
            "metadata": {
                "language": "sql",
                "azdata_cell_guid": "52a12841-c875-443f-80f0-8da1fc649197"
            },
            "outputs": [
                {
                    "output_type": "display_data",
                    "data": {
                        "text/html": "DATABASE OLUSUTURULDU"
                    },
                    "metadata": {}
                },
                {
                    "output_type": "display_data",
                    "data": {
                        "text/html": "Total execution time: 00:00:00.005"
                    },
                    "metadata": {}
                }
            ],
            "execution_count": 66
        },
        {
            "cell_type": "code",
            "source": [
                "USE OgrenciVeriTabani\n",
                "CREATE TABLE AkademisyenYuksekLisansVeriTablosu\n",
                "(\n",
                "AkademisyenID bigint PRIMARY KEY NOT NULL,\n",
                "Universite varchar(50) NULL,\n",
                "Bolum varchar(50) NULL,\n",
                "Fakulte varchar(50) NULL,\n",
                "Sehir varchar(50) NULL,\n",
                "BaslangicGun INT NULL,\n",
                "BaslangicAy INT NULL,\n",
                "BaslangicYil INT NULL,\n",
                "BitisGun INT NULL,\n",
                "BitisAy INT NULL,\n",
                "BitisYil INT NULL,\n",
                "\n",
                ");"
            ],
            "metadata": {
                "language": "sql",
                "azdata_cell_guid": "0c5653b3-3dcf-486d-881c-a80f64ca95c2"
            },
            "outputs": [
                {
                    "output_type": "display_data",
                    "data": {
                        "text/html": "DATABASE OLUSUTURULDU"
                    },
                    "metadata": {}
                },
                {
                    "output_type": "display_data",
                    "data": {
                        "text/html": "Total execution time: 00:00:00.006"
                    },
                    "metadata": {}
                }
            ],
            "execution_count": 67
        },
        {
            "cell_type": "code",
            "source": [
                "USE OgrenciVeriTabani\n",
                "CREATE TABLE AkademisyenDoktoraVeriTablosu\n",
                "(\n",
                "AkademisyenID bigint PRIMARY KEY NOT NULL,\n",
                "Universite varchar(50) NULL,\n",
                "Bolum varchar(50) NULL,\n",
                "Fakulte varchar(50) NULL,\n",
                "Sehir varchar(50) NULL,\n",
                "BaslangicGun INT NULL,\n",
                "BaslangicAy INT NULL,\n",
                "BaslangicYil INT NULL,\n",
                "BitisGun INT NULL,\n",
                "BitisAy INT NULL,\n",
                "BitisYil INT NULL,\n",
                "\n",
                ");"
            ],
            "metadata": {
                "language": "sql",
                "azdata_cell_guid": "701e0baf-b4fa-458f-a3ff-f58f13a1ceb0"
            },
            "outputs": [
                {
                    "output_type": "display_data",
                    "data": {
                        "text/html": "DATABASE OLUSUTURULDU"
                    },
                    "metadata": {}
                },
                {
                    "output_type": "display_data",
                    "data": {
                        "text/html": "Total execution time: 00:00:00.034"
                    },
                    "metadata": {}
                }
            ],
            "execution_count": 68
        },
        {
            "cell_type": "code",
            "source": [
                "DROP TABLE [OgrenciVeriTabani].dbo.AkademisyenKurumsalVeriTablosu;\n",
                "DROP TABLE [OgrenciVeriTabani].dbo.AkademisyenEgitimVeriTablosu;\n",
                "DROP TABLE [OgrenciVeriTabani].dbo.AkademisyenYuksekLisansVeriTablosu;\n",
                "DROP TABLE [OgrenciVeriTabani].dbo.AkademisyenDoktoraVeriTablosu;"
            ],
            "metadata": {
                "language": "sql",
                "azdata_cell_guid": "8a6c0249-a6c2-47b9-aa35-01504112ea98"
            },
            "outputs": [
                {
                    "output_type": "display_data",
                    "data": {
                        "text/html": "Commands completed successfully."
                    },
                    "metadata": {}
                },
                {
                    "output_type": "display_data",
                    "data": {
                        "text/html": "Total execution time: 00:00:00.015"
                    },
                    "metadata": {}
                }
            ],
            "execution_count": 64
        },
        {
            "cell_type": "code",
            "source": [
                "SELECT * FROM [OgrenciVeriTabani].[dbo].[OgrenciTablosu]"
            ],
            "metadata": {
                "azdata_cell_guid": "b7fc057b-77c8-43fa-9df2-fcb8b19fc935",
                "language": "sql"
            },
            "outputs": [
                {
                    "output_type": "display_data",
                    "data": {
                        "text/html": "(3 rows affected)"
                    },
                    "metadata": {}
                },
                {
                    "output_type": "display_data",
                    "data": {
                        "text/html": "Total execution time: 00:00:00.008"
                    },
                    "metadata": {}
                },
                {
                    "output_type": "execute_result",
                    "execution_count": 2,
                    "data": {
                        "application/vnd.dataresource+json": {
                            "schema": {
                                "fields": [
                                    {
                                        "name": "OgrenciID"
                                    },
                                    {
                                        "name": "KimlikID"
                                    },
                                    {
                                        "name": "Isim"
                                    },
                                    {
                                        "name": "Soyisim"
                                    },
                                    {
                                        "name": "Addres"
                                    },
                                    {
                                        "name": "TelNo"
                                    },
                                    {
                                        "name": "EPosta"
                                    },
                                    {
                                        "name": "Uyruk"
                                    },
                                    {
                                        "name": "Cinsiyet"
                                    },
                                    {
                                        "name": "Sehir"
                                    },
                                    {
                                        "name": "DogumGun"
                                    },
                                    {
                                        "name": "DogumAy"
                                    },
                                    {
                                        "name": "DogumYil"
                                    },
                                    {
                                        "name": "Fakulte"
                                    },
                                    {
                                        "name": "Bolum"
                                    },
                                    {
                                        "name": "OgretimTuru"
                                    },
                                    {
                                        "name": "OgrenciTuru"
                                    },
                                    {
                                        "name": "OkulEposta"
                                    },
                                    {
                                        "name": "DGS"
                                    },
                                    {
                                        "name": "YatayGecis"
                                    },
                                    {
                                        "name": "KayitGun"
                                    },
                                    {
                                        "name": "KayitAy"
                                    },
                                    {
                                        "name": "KayitYil"
                                    }
                                ]
                            },
                            "data": [
                                {
                                    "0": "533",
                                    "1": "882345682345",
                                    "2": "Deniz",
                                    "3": "Han",
                                    "4": "Merkez",
                                    "5": "6634635463",
                                    "6": "748@gmail.com",
                                    "7": "Katar",
                                    "8": "Erkek",
                                    "9": "Ankara",
                                    "10": "10",
                                    "11": "7",
                                    "12": "2008",
                                    "13": "Mimarlik - Mühendislik Fakültesi",
                                    "14": "Bilgiayar Mühendisligi",
                                    "15": "Birinci Ögretim",
                                    "16": "Lisans",
                                    "17": "53377@ogr.bozok.edutr",
                                    "18": "Hayir",
                                    "19": "Hayir",
                                    "20": "14",
                                    "21": "8",
                                    "22": "2009"
                                },
                                {
                                    "0": "7877",
                                    "1": "6782347687767",
                                    "2": "Deniz Han",
                                    "3": "Sahin",
                                    "4": "Merkez",
                                    "5": "9282783576823",
                                    "6": "trqgmail.com",
                                    "7": "Türkiye",
                                    "8": "Erkek",
                                    "9": "Yozgat",
                                    "10": "8",
                                    "11": "5",
                                    "12": "2006",
                                    "13": "Mimarlik - Mühendislik Fakültesi",
                                    "14": "Bilgiayar Mühendisligi",
                                    "15": "Birinci Ögretim",
                                    "16": "Lisans",
                                    "17": "7877@ogr.bozok.edutr",
                                    "18": "Hayir",
                                    "19": "Hayir",
                                    "20": "13",
                                    "21": "5",
                                    "22": "2006"
                                },
                                {
                                    "0": "123412341243124",
                                    "1": "923457232364",
                                    "2": "Denizhan",
                                    "3": "Sahin",
                                    "4": "Merkez",
                                    "5": "8283423",
                                    "6": "deniz@qgmail.con",
                                    "7": "Katar",
                                    "8": "Erkek",
                                    "9": "Kahramanmaras",
                                    "10": "9",
                                    "11": "10",
                                    "12": "2002",
                                    "13": "Mimarlik - Mühendislik Fakültesi",
                                    "14": "Bilgiayar Mühendisligi",
                                    "15": "Birinci Ögretim",
                                    "16": "Lisans",
                                    "17": "123412341243124@ogr.bozok.edu.tr",
                                    "18": "Evet",
                                    "19": "Evet",
                                    "20": "14",
                                    "21": "12",
                                    "22": "2010"
                                }
                            ]
                        },
                        "text/html": "<table><tr><th>OgrenciID</th><th>KimlikID</th><th>Isim</th><th>Soyisim</th><th>Addres</th><th>TelNo</th><th>EPosta</th><th>Uyruk</th><th>Cinsiyet</th><th>Sehir</th><th>DogumGun</th><th>DogumAy</th><th>DogumYil</th><th>Fakulte</th><th>Bolum</th><th>OgretimTuru</th><th>OgrenciTuru</th><th>OkulEposta</th><th>DGS</th><th>YatayGecis</th><th>KayitGun</th><th>KayitAy</th><th>KayitYil</th></tr><tr><td>533</td><td>882345682345</td><td>Deniz</td><td>Han</td><td>Merkez</td><td>6634635463</td><td>748@gmail.com</td><td>Katar</td><td>Erkek</td><td>Ankara</td><td>10</td><td>7</td><td>2008</td><td>Mimarlik - Mühendislik Fakültesi</td><td>Bilgiayar Mühendisligi</td><td>Birinci Ögretim</td><td>Lisans</td><td>53377@ogr.bozok.edutr</td><td>Hayir</td><td>Hayir</td><td>14</td><td>8</td><td>2009</td></tr><tr><td>7877</td><td>6782347687767</td><td>Deniz Han</td><td>Sahin</td><td>Merkez</td><td>9282783576823</td><td>trqgmail.com</td><td>Türkiye</td><td>Erkek</td><td>Yozgat</td><td>8</td><td>5</td><td>2006</td><td>Mimarlik - Mühendislik Fakültesi</td><td>Bilgiayar Mühendisligi</td><td>Birinci Ögretim</td><td>Lisans</td><td>7877@ogr.bozok.edutr</td><td>Hayir</td><td>Hayir</td><td>13</td><td>5</td><td>2006</td></tr><tr><td>123412341243124</td><td>923457232364</td><td>Denizhan</td><td>Sahin</td><td>Merkez</td><td>8283423</td><td>deniz@qgmail.con</td><td>Katar</td><td>Erkek</td><td>Kahramanmaras</td><td>9</td><td>10</td><td>2002</td><td>Mimarlik - Mühendislik Fakültesi</td><td>Bilgiayar Mühendisligi</td><td>Birinci Ögretim</td><td>Lisans</td><td>123412341243124@ogr.bozok.edu.tr</td><td>Evet</td><td>Evet</td><td>14</td><td>12</td><td>2010</td></tr></table>"
                    },
                    "metadata": {}
                }
            ],
            "execution_count": 2
        },
        {
            "cell_type": "code",
            "source": [
                "SELECT * FROM [OgrenciVeriTabani].[dbo].[AkademisyenKurumsalVeriTablosu]"
            ],
            "metadata": {
                "language": "sql",
                "azdata_cell_guid": "856ba856-1354-4f4b-9e9d-cd008d55af8d"
            },
            "outputs": [
                {
                    "output_type": "display_data",
                    "data": {
                        "text/html": "(2 rows affected)"
                    },
                    "metadata": {}
                },
                {
                    "output_type": "display_data",
                    "data": {
                        "text/html": "Total execution time: 00:00:00.010"
                    },
                    "metadata": {}
                },
                {
                    "output_type": "execute_result",
                    "execution_count": 3,
                    "data": {
                        "application/vnd.dataresource+json": {
                            "schema": {
                                "fields": [
                                    {
                                        "name": "AkademisyenID"
                                    },
                                    {
                                        "name": "KimlikID"
                                    },
                                    {
                                        "name": "Isim"
                                    },
                                    {
                                        "name": "Soyisim"
                                    },
                                    {
                                        "name": "Adres"
                                    },
                                    {
                                        "name": "TelNo"
                                    },
                                    {
                                        "name": "EPosta"
                                    },
                                    {
                                        "name": "Uyruk"
                                    },
                                    {
                                        "name": "Cinsiyet"
                                    },
                                    {
                                        "name": "Sehir"
                                    },
                                    {
                                        "name": "DogumGun"
                                    },
                                    {
                                        "name": "DogumAy"
                                    },
                                    {
                                        "name": "DogumYil"
                                    },
                                    {
                                        "name": "GorevFakulte"
                                    },
                                    {
                                        "name": "GorevBolum"
                                    },
                                    {
                                        "name": "GorevOgretimTuru"
                                    },
                                    {
                                        "name": "GorevLisansTuru"
                                    },
                                    {
                                        "name": "GorevTuru"
                                    },
                                    {
                                        "name": "OkulEposta"
                                    },
                                    {
                                        "name": "GorevKayitGun"
                                    },
                                    {
                                        "name": "GorevKayitAy"
                                    },
                                    {
                                        "name": "GorevKayitYil"
                                    }
                                ]
                            },
                            "data": [
                                {
                                    "0": "1",
                                    "1": "2",
                                    "2": "Deniz",
                                    "3": "Han",
                                    "4": "Merkez",
                                    "5": "44672112",
                                    "6": "deniz@gmail.com",
                                    "7": "Arabistan",
                                    "8": "Erkek",
                                    "9": "Kirsehir",
                                    "10": "1",
                                    "11": "5",
                                    "12": "2002",
                                    "13": "Mimarlik - Mühendislik Fakültesi",
                                    "14": "Elektrik - Elektronik Mühendisligi",
                                    "15": "Ikinci Ögretim",
                                    "16": "Lisans",
                                    "17": "Doçent Ögretim Görevlisi",
                                    "18": "001@yobu.edu.tr",
                                    "19": "2",
                                    "20": "6",
                                    "21": "2003"
                                },
                                {
                                    "0": "2",
                                    "1": "1",
                                    "2": "Denizhan",
                                    "3": "Sahin",
                                    "4": "Merkez",
                                    "5": "44672112",
                                    "6": "deniz@gmail.com",
                                    "7": "Türkiye",
                                    "8": "Erkek",
                                    "9": "Kayseri",
                                    "10": "1",
                                    "11": "5",
                                    "12": "2002",
                                    "13": "Mimarlik - Mühendislik Fakültesi",
                                    "14": "Bilgiayar Mühendisligi",
                                    "15": "Birinci Ögretim",
                                    "16": "Lisans",
                                    "17": "Profesör Ögretim Görevlisi",
                                    "18": "002@yobu.edu.tr",
                                    "19": "2",
                                    "20": "6",
                                    "21": "2003"
                                }
                            ]
                        },
                        "text/html": "<table><tr><th>AkademisyenID</th><th>KimlikID</th><th>Isim</th><th>Soyisim</th><th>Adres</th><th>TelNo</th><th>EPosta</th><th>Uyruk</th><th>Cinsiyet</th><th>Sehir</th><th>DogumGun</th><th>DogumAy</th><th>DogumYil</th><th>GorevFakulte</th><th>GorevBolum</th><th>GorevOgretimTuru</th><th>GorevLisansTuru</th><th>GorevTuru</th><th>OkulEposta</th><th>GorevKayitGun</th><th>GorevKayitAy</th><th>GorevKayitYil</th></tr><tr><td>1</td><td>2</td><td>Deniz</td><td>Han</td><td>Merkez</td><td>44672112</td><td>deniz@gmail.com</td><td>Arabistan</td><td>Erkek</td><td>Kirsehir</td><td>1</td><td>5</td><td>2002</td><td>Mimarlik - Mühendislik Fakültesi</td><td>Elektrik - Elektronik Mühendisligi</td><td>Ikinci Ögretim</td><td>Lisans</td><td>Doçent Ögretim Görevlisi</td><td>001@yobu.edu.tr</td><td>2</td><td>6</td><td>2003</td></tr><tr><td>2</td><td>1</td><td>Denizhan</td><td>Sahin</td><td>Merkez</td><td>44672112</td><td>deniz@gmail.com</td><td>Türkiye</td><td>Erkek</td><td>Kayseri</td><td>1</td><td>5</td><td>2002</td><td>Mimarlik - Mühendislik Fakültesi</td><td>Bilgiayar Mühendisligi</td><td>Birinci Ögretim</td><td>Lisans</td><td>Profesör Ögretim Görevlisi</td><td>002@yobu.edu.tr</td><td>2</td><td>6</td><td>2003</td></tr></table>"
                    },
                    "metadata": {}
                }
            ],
            "execution_count": 3
        },
        {
            "cell_type": "code",
            "source": [
                "SELECT * FROM [OgrenciVeriTabani].[dbo].[AkademisyenEgitimVeriTablosu]"
            ],
            "metadata": {
                "language": "sql",
                "azdata_cell_guid": "86580f6b-0256-495a-8791-40ec9872b1ac"
            },
            "outputs": [
                {
                    "output_type": "display_data",
                    "data": {
                        "text/html": "(2 rows affected)"
                    },
                    "metadata": {}
                },
                {
                    "output_type": "display_data",
                    "data": {
                        "text/html": "Total execution time: 00:00:00.005"
                    },
                    "metadata": {}
                },
                {
                    "output_type": "execute_result",
                    "execution_count": 4,
                    "data": {
                        "application/vnd.dataresource+json": {
                            "schema": {
                                "fields": [
                                    {
                                        "name": "AkademisyenID"
                                    },
                                    {
                                        "name": "Universite"
                                    },
                                    {
                                        "name": "Bolum"
                                    },
                                    {
                                        "name": "OgretimTuru"
                                    },
                                    {
                                        "name": "LisansTuru"
                                    },
                                    {
                                        "name": "Fakulte"
                                    },
                                    {
                                        "name": "Sehir"
                                    },
                                    {
                                        "name": "BaslangicGun"
                                    },
                                    {
                                        "name": "BaslangicAy"
                                    },
                                    {
                                        "name": "BaslangicYil"
                                    },
                                    {
                                        "name": "BitisGun"
                                    },
                                    {
                                        "name": "BitisAy"
                                    },
                                    {
                                        "name": "BitisYil"
                                    }
                                ]
                            },
                            "data": [
                                {
                                    "0": "1",
                                    "1": "Kirsehir Ahi Evran Üniversitesi",
                                    "2": "Elektrik - Elektronik Mühendisligi",
                                    "3": "Ikinci Ögretim",
                                    "4": "Lisans",
                                    "5": "Saglik Bilimleri Fakültesi",
                                    "6": "Adana",
                                    "7": "10",
                                    "8": "11",
                                    "9": "2004",
                                    "10": "11",
                                    "11": "12",
                                    "12": "2005"
                                },
                                {
                                    "0": "2",
                                    "1": "Erciyes Üniversitesi",
                                    "2": "Elektrik - Elektronik Mühendisligi",
                                    "3": "Ikinci Ögretim",
                                    "4": "Lisans",
                                    "5": "Saglik Bilimleri Fakültesi",
                                    "6": "Adana",
                                    "7": "10",
                                    "8": "11",
                                    "9": "2004",
                                    "10": "11",
                                    "11": "12",
                                    "12": "2005"
                                }
                            ]
                        },
                        "text/html": "<table><tr><th>AkademisyenID</th><th>Universite</th><th>Bolum</th><th>OgretimTuru</th><th>LisansTuru</th><th>Fakulte</th><th>Sehir</th><th>BaslangicGun</th><th>BaslangicAy</th><th>BaslangicYil</th><th>BitisGun</th><th>BitisAy</th><th>BitisYil</th></tr><tr><td>1</td><td>Kirsehir Ahi Evran Üniversitesi</td><td>Elektrik - Elektronik Mühendisligi</td><td>Ikinci Ögretim</td><td>Lisans</td><td>Saglik Bilimleri Fakültesi</td><td>Adana</td><td>10</td><td>11</td><td>2004</td><td>11</td><td>12</td><td>2005</td></tr><tr><td>2</td><td>Erciyes Üniversitesi</td><td>Elektrik - Elektronik Mühendisligi</td><td>Ikinci Ögretim</td><td>Lisans</td><td>Saglik Bilimleri Fakültesi</td><td>Adana</td><td>10</td><td>11</td><td>2004</td><td>11</td><td>12</td><td>2005</td></tr></table>"
                    },
                    "metadata": {}
                }
            ],
            "execution_count": 4
        },
        {
            "cell_type": "code",
            "source": [
                "SELECT * FROM [OgrenciVeriTabani].[dbo].[AkademisyenYuksekLisansVeriTablosu]"
            ],
            "metadata": {
                "language": "sql",
                "azdata_cell_guid": "b9f82b5e-92ed-4425-bd1a-870c2c8a84fa"
            },
            "outputs": [
                {
                    "output_type": "display_data",
                    "data": {
                        "text/html": "(2 rows affected)"
                    },
                    "metadata": {}
                },
                {
                    "output_type": "display_data",
                    "data": {
                        "text/html": "Total execution time: 00:00:00.005"
                    },
                    "metadata": {}
                },
                {
                    "output_type": "execute_result",
                    "execution_count": 5,
                    "data": {
                        "application/vnd.dataresource+json": {
                            "schema": {
                                "fields": [
                                    {
                                        "name": "AkademisyenID"
                                    },
                                    {
                                        "name": "Universite"
                                    },
                                    {
                                        "name": "Bolum"
                                    },
                                    {
                                        "name": "Fakulte"
                                    },
                                    {
                                        "name": "Sehir"
                                    },
                                    {
                                        "name": "BaslangicGun"
                                    },
                                    {
                                        "name": "BaslangicAy"
                                    },
                                    {
                                        "name": "BaslangicYil"
                                    },
                                    {
                                        "name": "BitisGun"
                                    },
                                    {
                                        "name": "BitisAy"
                                    },
                                    {
                                        "name": "BitisYil"
                                    }
                                ]
                            },
                            "data": [
                                {
                                    "0": "1",
                                    "1": "Sivas Cumhuriyet Üniversitesi",
                                    "2": "Makine Mühendisligi",
                                    "3": "Hukuk Fakültesi",
                                    "4": "Adana",
                                    "5": "16",
                                    "6": "1",
                                    "7": "2006",
                                    "8": "17",
                                    "9": "4",
                                    "10": "2007"
                                },
                                {
                                    "0": "2",
                                    "1": "Kirsehir Ahi Evran Üniversitesi",
                                    "2": "Makine Mühendisligi",
                                    "3": "Hukuk Fakültesi",
                                    "4": "Adana",
                                    "5": "16",
                                    "6": "1",
                                    "7": "2006",
                                    "8": "17",
                                    "9": "7",
                                    "10": "2007"
                                }
                            ]
                        },
                        "text/html": "<table><tr><th>AkademisyenID</th><th>Universite</th><th>Bolum</th><th>Fakulte</th><th>Sehir</th><th>BaslangicGun</th><th>BaslangicAy</th><th>BaslangicYil</th><th>BitisGun</th><th>BitisAy</th><th>BitisYil</th></tr><tr><td>1</td><td>Sivas Cumhuriyet Üniversitesi</td><td>Makine Mühendisligi</td><td>Hukuk Fakültesi</td><td>Adana</td><td>16</td><td>1</td><td>2006</td><td>17</td><td>4</td><td>2007</td></tr><tr><td>2</td><td>Kirsehir Ahi Evran Üniversitesi</td><td>Makine Mühendisligi</td><td>Hukuk Fakültesi</td><td>Adana</td><td>16</td><td>1</td><td>2006</td><td>17</td><td>7</td><td>2007</td></tr></table>"
                    },
                    "metadata": {}
                }
            ],
            "execution_count": 5
        },
        {
            "cell_type": "code",
            "source": [
                "SELECT * FROM [OgrenciVeriTabani].[dbo].[AkademisyenDoktoraVeriTablosu]"
            ],
            "metadata": {
                "language": "sql",
                "azdata_cell_guid": "b7ebb58d-7acf-44c4-9553-0cd5d865a843"
            },
            "outputs": [
                {
                    "output_type": "display_data",
                    "data": {
                        "text/html": "(2 rows affected)"
                    },
                    "metadata": {}
                },
                {
                    "output_type": "display_data",
                    "data": {
                        "text/html": "Total execution time: 00:00:00.004"
                    },
                    "metadata": {}
                },
                {
                    "output_type": "execute_result",
                    "execution_count": 6,
                    "data": {
                        "application/vnd.dataresource+json": {
                            "schema": {
                                "fields": [
                                    {
                                        "name": "AkademisyenID"
                                    },
                                    {
                                        "name": "Universite"
                                    },
                                    {
                                        "name": "Bolum"
                                    },
                                    {
                                        "name": "Fakulte"
                                    },
                                    {
                                        "name": "Sehir"
                                    },
                                    {
                                        "name": "BaslangicGun"
                                    },
                                    {
                                        "name": "BaslangicAy"
                                    },
                                    {
                                        "name": "BaslangicYil"
                                    },
                                    {
                                        "name": "BitisGun"
                                    },
                                    {
                                        "name": "BitisAy"
                                    },
                                    {
                                        "name": "BitisYil"
                                    }
                                ]
                            },
                            "data": [
                                {
                                    "0": "1",
                                    "1": "Nevsehir Üniversitesi",
                                    "2": "Sehir Bölge Planlama",
                                    "3": "Tip Fakültesi",
                                    "4": "Nigde",
                                    "5": "7",
                                    "6": "4",
                                    "7": "2009",
                                    "8": "24",
                                    "9": "4",
                                    "10": "2009"
                                },
                                {
                                    "0": "2",
                                    "1": "Sivas Cumhuriyet Üniversitesi",
                                    "2": "Sehir Bölge Planlama",
                                    "3": "Tip Fakültesi",
                                    "4": "Nigde",
                                    "5": "7",
                                    "6": "4",
                                    "7": "2008",
                                    "8": "24",
                                    "9": "7",
                                    "10": "2009"
                                }
                            ]
                        },
                        "text/html": "<table><tr><th>AkademisyenID</th><th>Universite</th><th>Bolum</th><th>Fakulte</th><th>Sehir</th><th>BaslangicGun</th><th>BaslangicAy</th><th>BaslangicYil</th><th>BitisGun</th><th>BitisAy</th><th>BitisYil</th></tr><tr><td>1</td><td>Nevsehir Üniversitesi</td><td>Sehir Bölge Planlama</td><td>Tip Fakültesi</td><td>Nigde</td><td>7</td><td>4</td><td>2009</td><td>24</td><td>4</td><td>2009</td></tr><tr><td>2</td><td>Sivas Cumhuriyet Üniversitesi</td><td>Sehir Bölge Planlama</td><td>Tip Fakültesi</td><td>Nigde</td><td>7</td><td>4</td><td>2008</td><td>24</td><td>7</td><td>2009</td></tr></table>"
                    },
                    "metadata": {}
                }
            ],
            "execution_count": 6
        }
    ]
}